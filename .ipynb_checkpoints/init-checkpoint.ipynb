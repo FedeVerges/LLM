{
 "cells": [
  {
   "cell_type": "code",
   "execution_count": null,
   "id": "7b4374f4-9f01-4033-bbc3-359ee72c33a6",
   "metadata": {},
   "outputs": [],
   "source": [
    "!pip install ollama -q"
   ]
  },
  {
   "cell_type": "code",
   "execution_count": null,
   "id": "0d4912a5-8651-4d49-a13f-a5ee74993993",
   "metadata": {},
   "outputs": [],
   "source": [
    "import ollama"
   ]
  },
  {
   "cell_type": "code",
   "execution_count": null,
   "id": "e16f7a5b-092c-4bda-8268-565c1ea19865",
   "metadata": {},
   "outputs": [],
   "source": [
    "from langchain_community_llms import Ollama"
   ]
  },
  {
   "cell_type": "code",
   "execution_count": null,
   "id": "2d927b46-1dcd-4f16-8dc3-863425dbf9a4",
   "metadata": {},
   "outputs": [],
   "source": [
    "llm = Ollama(model=\"gemma:2b\", temperature=0.1)"
   ]
  },
  {
   "cell_type": "code",
   "execution_count": null,
   "id": "7335323d-e371-416e-b953-14392ddb79d1",
   "metadata": {},
   "outputs": [],
   "source": [
    "responde = llm.invoke(\"Necesito que me des una codigo de python para hacer una funcion que calcule el factorial de un numero\")"
   ]
  },
  {
   "cell_type": "code",
   "execution_count": null,
   "id": "9622f294-6d73-45f5-b962-11525ac40174",
   "metadata": {},
   "outputs": [],
   "source": []
  },
  {
   "cell_type": "code",
   "execution_count": null,
   "id": "8cd7a5d9-8219-4a8c-90e5-a5bbe753f739",
   "metadata": {},
   "outputs": [],
   "source": []
  },
  {
   "cell_type": "code",
   "execution_count": null,
   "id": "88cabaa6-441c-43f9-8c61-76af59000dee",
   "metadata": {},
   "outputs": [],
   "source": []
  },
  {
   "cell_type": "code",
   "execution_count": null,
   "id": "1896583e-8931-417e-9baf-e96daf4e1bf6",
   "metadata": {},
   "outputs": [],
   "source": []
  }
 ],
 "metadata": {
  "kernelspec": {
   "display_name": "Python 3 (ipykernel)",
   "language": "python",
   "name": "python3"
  },
  "language_info": {
   "codemirror_mode": {
    "name": "ipython",
    "version": 3
   },
   "file_extension": ".py",
   "mimetype": "text/x-python",
   "name": "python",
   "nbconvert_exporter": "python",
   "pygments_lexer": "ipython3",
   "version": "3.12.3"
  }
 },
 "nbformat": 4,
 "nbformat_minor": 5
}
